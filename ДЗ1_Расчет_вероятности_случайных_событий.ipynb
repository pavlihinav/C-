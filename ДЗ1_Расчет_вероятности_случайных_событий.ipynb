{
  "nbformat": 4,
  "nbformat_minor": 0,
  "metadata": {
    "colab": {
      "provenance": [],
      "authorship_tag": "ABX9TyNbLDvrnXWjKAX1S0ezXVau",
      "include_colab_link": true
    },
    "kernelspec": {
      "name": "python3",
      "display_name": "Python 3"
    },
    "language_info": {
      "name": "python"
    }
  },
  "cells": [
    {
      "cell_type": "markdown",
      "metadata": {
        "id": "view-in-github",
        "colab_type": "text"
      },
      "source": [
        "<a href=\"https://colab.research.google.com/github/pavlihinav/C-/blob/main/%D0%94%D0%971_%D0%A0%D0%B0%D1%81%D1%87%D0%B5%D1%82_%D0%B2%D0%B5%D1%80%D0%BE%D1%8F%D1%82%D0%BD%D0%BE%D1%81%D1%82%D0%B8_%D1%81%D0%BB%D1%83%D1%87%D0%B0%D0%B9%D0%BD%D1%8B%D1%85_%D1%81%D0%BE%D0%B1%D1%8B%D1%82%D0%B8%D0%B9.ipynb\" target=\"_parent\"><img src=\"https://colab.research.google.com/assets/colab-badge.svg\" alt=\"Open In Colab\"/></a>"
      ]
    },
    {
      "cell_type": "markdown",
      "source": [
        "Задача 1\n",
        "Из колоды в 52 карты извлекаются случайным образом 4 карты:\n",
        "a) Найти вероятность того, что все карты – крести.\n",
        "б) Найти вероятность, что среди 4-х карт окажется хотя бы один туз."
      ],
      "metadata": {
        "id": "1yuDSSKwndX9"
      }
    },
    {
      "cell_type": "code",
      "execution_count": 1,
      "metadata": {
        "id": "4ck2IClFnRs1"
      },
      "outputs": [],
      "source": [
        "from math import factorial\n"
      ]
    },
    {
      "cell_type": "code",
      "source": [
        "def combinations(n, k):\n",
        "    return int(factorial(n) / (factorial(k) * factorial(n - k)))"
      ],
      "metadata": {
        "id": "QyEtwBLmnuvl"
      },
      "execution_count": 2,
      "outputs": []
    },
    {
      "cell_type": "code",
      "source": [
        "result = combinations(13, 4) / combinations(52, 4)"
      ],
      "metadata": {
        "id": "Zg8baf1cnwKr"
      },
      "execution_count": 3,
      "outputs": []
    },
    {
      "cell_type": "code",
      "source": [
        "print(\"Найти вероятность того, что все карты – крести\")\n",
        "print(f\"Ответ: {result}\")"
      ],
      "metadata": {
        "colab": {
          "base_uri": "https://localhost:8080/"
        },
        "id": "vDl6LvqDnzaL",
        "outputId": "39264ef3-d944-4186-ab82-74dbde77bfa3"
      },
      "execution_count": 4,
      "outputs": [
        {
          "output_type": "stream",
          "name": "stdout",
          "text": [
            "Найти вероятность того, что все карты – крести\n",
            "Ответ: 0.0026410564225690276\n"
          ]
        }
      ]
    },
    {
      "cell_type": "code",
      "source": [
        "result = 1 - combinations(48,4) / combinations(52,4)"
      ],
      "metadata": {
        "id": "dedroRM0oNuz"
      },
      "execution_count": 5,
      "outputs": []
    },
    {
      "cell_type": "code",
      "source": [
        "print(\"Найти вероятность, что среди 4-х карт окажется хотя бы один туз\")\n",
        "print(f\"Ответ: {result}\")"
      ],
      "metadata": {
        "colab": {
          "base_uri": "https://localhost:8080/"
        },
        "id": "LEFhnC_yoPGY",
        "outputId": "9fb2f2ef-1953-406b-af3f-d334c2d66fa0"
      },
      "execution_count": 6,
      "outputs": [
        {
          "output_type": "stream",
          "name": "stdout",
          "text": [
            "Найти вероятность, что среди 4-х карт окажется хотя бы один туз\n",
            "Ответ: 0.2812632745405854\n"
          ]
        }
      ]
    },
    {
      "cell_type": "markdown",
      "source": [
        "**Задача 2**\n",
        "На входной двери подъезда установлен кодовый замок, содержащий десять кнопок с цифрами от 0 до 9.\n",
        "Код содержит три цифры, которые нужно нажать одновременно.\n",
        "Какова вероятность того, что человек, не знающий код, откроет дверь с первой попытки?"
      ],
      "metadata": {
        "id": "XTUh_whzoXDe"
      }
    },
    {
      "cell_type": "code",
      "source": [
        "def arrangements(n, k):\n",
        "    return int(factorial(n) / factorial(n - k))"
      ],
      "metadata": {
        "id": "DEZIWU0nogAK"
      },
      "execution_count": 8,
      "outputs": []
    },
    {
      "cell_type": "code",
      "source": [
        "result = arrangements(3, 3) / arrangements(10, 3)"
      ],
      "metadata": {
        "id": "dzM6FILPouwh"
      },
      "execution_count": 9,
      "outputs": []
    },
    {
      "cell_type": "code",
      "source": [
        "print(f\"Ответ: {result}\")"
      ],
      "metadata": {
        "colab": {
          "base_uri": "https://localhost:8080/"
        },
        "id": "DE73S3aXozxk",
        "outputId": "ece28de0-b35c-4ff5-8b40-6c5941db30ae"
      },
      "execution_count": 10,
      "outputs": [
        {
          "output_type": "stream",
          "name": "stdout",
          "text": [
            "Ответ: 0.008333333333333333\n"
          ]
        }
      ]
    },
    {
      "cell_type": "markdown",
      "source": [
        "**Задача 3**\n",
        "\n",
        "В ящике имеется 15 деталей, из которых 9 окрашены.\n",
        " Рабочий случайным образом извлекает 3 детали.\n",
        "  Какова вероятность того, что все извлеченные детали окрашены?"
      ],
      "metadata": {
        "id": "cu-Q0tBPo88z"
      }
    },
    {
      "cell_type": "code",
      "source": [
        "result = combinations(9, 3) / combinations(15, 3)"
      ],
      "metadata": {
        "id": "A0X6vnkQpF2n"
      },
      "execution_count": 11,
      "outputs": []
    },
    {
      "cell_type": "code",
      "source": [
        "print(f\"Ответ: {result}\")"
      ],
      "metadata": {
        "colab": {
          "base_uri": "https://localhost:8080/"
        },
        "id": "PxuXZ7wEpRRx",
        "outputId": "98801a66-acda-4d88-f697-9cbf72282dda"
      },
      "execution_count": 12,
      "outputs": [
        {
          "output_type": "stream",
          "name": "stdout",
          "text": [
            "Ответ: 0.18461538461538463\n"
          ]
        }
      ]
    },
    {
      "cell_type": "markdown",
      "source": [
        "**Задача 4**\n",
        "\n",
        "\n",
        "В лотерее 100 билетов. Из них 2 выигрышных. Какова вероятность того, что 2 приобретенных билета окажутся выигрышными?"
      ],
      "metadata": {
        "id": "KRKGbq3mpaf6"
      }
    },
    {
      "cell_type": "code",
      "source": [
        "result = 1 / combinations(100, 2)"
      ],
      "metadata": {
        "id": "nUjpObU7piXG"
      },
      "execution_count": 13,
      "outputs": []
    },
    {
      "cell_type": "code",
      "source": [
        "print(f\"Ответ: {result}\")"
      ],
      "metadata": {
        "colab": {
          "base_uri": "https://localhost:8080/"
        },
        "id": "W-TGQB5CpleW",
        "outputId": "109f2ff9-85db-4b38-e71e-5be5efc696eb"
      },
      "execution_count": 14,
      "outputs": [
        {
          "output_type": "stream",
          "name": "stdout",
          "text": [
            "Ответ: 0.00020202020202020202\n"
          ]
        }
      ]
    }
  ]
}