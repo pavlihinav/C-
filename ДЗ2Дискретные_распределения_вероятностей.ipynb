{
  "nbformat": 4,
  "nbformat_minor": 0,
  "metadata": {
    "colab": {
      "provenance": [],
      "authorship_tag": "ABX9TyPk0WomOVOVsso7gpKVXhFE",
      "include_colab_link": true
    },
    "kernelspec": {
      "name": "python3",
      "display_name": "Python 3"
    },
    "language_info": {
      "name": "python"
    }
  },
  "cells": [
    {
      "cell_type": "markdown",
      "metadata": {
        "id": "view-in-github",
        "colab_type": "text"
      },
      "source": [
        "<a href=\"https://colab.research.google.com/github/pavlihinav/C-/blob/main/%D0%94%D0%972%D0%94%D0%B8%D1%81%D0%BA%D1%80%D0%B5%D1%82%D0%BD%D1%8B%D0%B5_%D1%80%D0%B0%D1%81%D0%BF%D1%80%D0%B5%D0%B4%D0%B5%D0%BB%D0%B5%D0%BD%D0%B8%D1%8F_%D0%B2%D0%B5%D1%80%D0%BE%D1%8F%D1%82%D0%BD%D0%BE%D1%81%D1%82%D0%B5%D0%B9.ipynb\" target=\"_parent\"><img src=\"https://colab.research.google.com/assets/colab-badge.svg\" alt=\"Open In Colab\"/></a>"
      ]
    },
    {
      "cell_type": "markdown",
      "source": [
        "**Задача 1.**\n",
        "\n",
        " Вероятность того, что стрелок попадет в мишень, выстрелив один раз, равна 0.8. Стрелок выстрелил 100 раз. Найдите вероятность того, что стрелок попадет в цель ровно 85 раз."
      ],
      "metadata": {
        "id": "BQ8IaS60rRjL"
      }
    },
    {
      "cell_type": "code",
      "execution_count": 1,
      "metadata": {
        "id": "aKFRVfAdq4fu"
      },
      "outputs": [],
      "source": [
        "from math import factorial\n",
        "from math import exp"
      ]
    },
    {
      "cell_type": "code",
      "source": [
        "def combinations(n, k):\n",
        "    return int(factorial(n) / (factorial(k) * factorial(n - k)))"
      ],
      "metadata": {
        "id": "Pii7Js4mrorX"
      },
      "execution_count": 2,
      "outputs": []
    },
    {
      "cell_type": "code",
      "source": [
        "n = 100\n",
        "p = 0.8\n",
        "k = 85\n",
        "q = 1 - p\n",
        "result = combinations(n, k) * (p ** k) * (q ** (n-k))"
      ],
      "metadata": {
        "id": "xMr7DqiErsMt"
      },
      "execution_count": 4,
      "outputs": []
    },
    {
      "cell_type": "code",
      "source": [
        "print(\"Найдите вероятность того, что стрелок попадет в цель ровно 85 раз\")\n",
        "print(f\"Ответ: {result}\")"
      ],
      "metadata": {
        "colab": {
          "base_uri": "https://localhost:8080/"
        },
        "id": "Uosn48zfrv0O",
        "outputId": "e0feb80a-e09c-4a6d-b6a0-99a204dfe317"
      },
      "execution_count": 5,
      "outputs": [
        {
          "output_type": "stream",
          "name": "stdout",
          "text": [
            "Найдите вероятность того, что стрелок попадет в цель ровно 85 раз\n",
            "Ответ: 0.048061793700746355\n"
          ]
        }
      ]
    },
    {
      "cell_type": "markdown",
      "source": [
        "**Задача 2**\n",
        "\n",
        "\n",
        "Вероятность того, что лампочка перегорит в течение первого дня эксплуатации, равна 0.0004.\n",
        "\n",
        "\n",
        "В жилом комплексе после ремонта в один день включили 5000 новых лампочек.\n",
        "Какова вероятность, что ни одна из них не перегорит в первый день?\n",
        "\n",
        "Какова вероятность, что перегорят ровно две?"
      ],
      "metadata": {
        "id": "pPYV17M4sgCJ"
      }
    },
    {
      "cell_type": "code",
      "source": [
        "m = 0\n",
        "p = 0.0004\n",
        "n = 5000\n",
        "lamb = p * n\n",
        "result = ((lamb ** m) / factorial(m)) * exp(-lamb)"
      ],
      "metadata": {
        "id": "l5CQK92Csu7d"
      },
      "execution_count": 6,
      "outputs": []
    },
    {
      "cell_type": "code",
      "source": [
        "print(\"Какова вероятность, что ни одна из них не перегорит в первый день?\")\n",
        "print(f\"Ответ: {result}\")"
      ],
      "metadata": {
        "colab": {
          "base_uri": "https://localhost:8080/"
        },
        "id": "NSq5pv8ks3MS",
        "outputId": "1837aa58-1aca-4c82-bc5e-b4468e4e348c"
      },
      "execution_count": 7,
      "outputs": [
        {
          "output_type": "stream",
          "name": "stdout",
          "text": [
            "Какова вероятность, что ни одна из них не перегорит в первый день?\n",
            "Ответ: 0.1353352832366127\n"
          ]
        }
      ]
    },
    {
      "cell_type": "code",
      "source": [
        "m=2\n",
        "result = ((lamb**m) / factorial(m)) * exp(-lamb)"
      ],
      "metadata": {
        "id": "yEwih-9OtBtM"
      },
      "execution_count": 8,
      "outputs": []
    },
    {
      "cell_type": "code",
      "source": [
        "print(\"Какова вероятность, что перегорят ровно две?\")\n",
        "print(f\"Ответ: {result}\")"
      ],
      "metadata": {
        "colab": {
          "base_uri": "https://localhost:8080/"
        },
        "id": "YQAFYQVUtEqk",
        "outputId": "e58f5d51-bee8-4582-a2a4-33a92d00915b"
      },
      "execution_count": 9,
      "outputs": [
        {
          "output_type": "stream",
          "name": "stdout",
          "text": [
            "Какова вероятность, что перегорят ровно две?\n",
            "Ответ: 0.2706705664732254\n"
          ]
        }
      ]
    },
    {
      "cell_type": "markdown",
      "source": [
        "**Задача 3**\n",
        "\n",
        "\n",
        "Монету подбросили 144 раза. Какова вероятность, что орел выпадет ровно 70 раз?"
      ],
      "metadata": {
        "id": "vELa_NX9s8_s"
      }
    },
    {
      "cell_type": "code",
      "source": [
        "n = 144\n",
        "p = 0.5\n",
        "k = 70\n",
        "q = 1 - p\n",
        "result = combinations(n, k) * (p ** k) * (q ** (n-k))"
      ],
      "metadata": {
        "id": "YGHA5qP-tT_g"
      },
      "execution_count": 10,
      "outputs": []
    },
    {
      "cell_type": "code",
      "source": [
        "print(\"Какова вероятность, что орел выпадет ровно 70 раз?\")\n",
        "print(f\"Ответ: {result}\")"
      ],
      "metadata": {
        "colab": {
          "base_uri": "https://localhost:8080/"
        },
        "id": "ShqQ8IQ1tacS",
        "outputId": "614036ed-db77-4a6f-8668-bea2affebd7f"
      },
      "execution_count": 11,
      "outputs": [
        {
          "output_type": "stream",
          "name": "stdout",
          "text": [
            "Какова вероятность, что орел выпадет ровно 70 раз?\n",
            "Ответ: 0.06281178035144776\n"
          ]
        }
      ]
    },
    {
      "cell_type": "markdown",
      "source": [
        "**Задача 4**\n",
        "\n",
        "В первом ящике находится 10 мячей, из которых 7 - белые.\n",
        "Во втором ящике - 11 мячей, из которых 9 белых.\n",
        "\n",
        "Из каждого ящика вытаскивают случайным образом по два мяча.\n",
        "\n",
        "Какова вероятность того, что все мячи белые?\n",
        "\n",
        "Какова вероятность того, что ровно два мяча белые?\n",
        "\n",
        "Какова вероятность того, что хотя бы один мяч белый?"
      ],
      "metadata": {
        "id": "H9RxnIvHtgBm"
      }
    },
    {
      "cell_type": "code",
      "source": [
        "p1 = combinations(7, 2) / combinations(10, 2)\n",
        "p2 = combinations(9, 2) / combinations(11, 2)\n",
        "result = p1 * p2"
      ],
      "metadata": {
        "id": "M7BqQ4zFtrcd"
      },
      "execution_count": 12,
      "outputs": []
    },
    {
      "cell_type": "code",
      "source": [
        "print(\"Какова вероятность того, что все мячи белые?\")\n",
        "print(f\"Ответ: {result}\")"
      ],
      "metadata": {
        "colab": {
          "base_uri": "https://localhost:8080/"
        },
        "id": "5-h3yXm8txoP",
        "outputId": "ad5214f4-4de5-471f-f3af-74149f577a6f"
      },
      "execution_count": 13,
      "outputs": [
        {
          "output_type": "stream",
          "name": "stdout",
          "text": [
            "Какова вероятность того, что все мячи белые?\n",
            "Ответ: 0.3054545454545455\n"
          ]
        }
      ]
    },
    {
      "cell_type": "code",
      "source": [
        "p1 = (combinations(7, 2) / combinations(10, 2)) * (combinations(2, 2) / combinations(11, 2))\n",
        "p2 = (combinations(7, 1) * combinations(3, 1) / combinations(10, 2)) * (combinations(9, 1) * combinations(2, 1) / combinations(11, 2))\n",
        "p3 = (combinations(3, 2) / combinations(10, 2)) * (combinations(9, 2) / combinations(11, 2))\n",
        "result = p1 + p2 + p3"
      ],
      "metadata": {
        "id": "Kp9_72kTt2Pj"
      },
      "execution_count": 14,
      "outputs": []
    },
    {
      "cell_type": "code",
      "source": [
        "print(\"Какова вероятность того, что ровно два мяча белые?\")\n",
        "print(f\"Ответ: {result}\")"
      ],
      "metadata": {
        "colab": {
          "base_uri": "https://localhost:8080/"
        },
        "id": "W6lb3R9Gt6OF",
        "outputId": "bc463e45-d147-4736-b75a-2760727138fb"
      },
      "execution_count": 15,
      "outputs": [
        {
          "output_type": "stream",
          "name": "stdout",
          "text": [
            "Какова вероятность того, что ровно два мяча белые?\n",
            "Ответ: 0.20484848484848486\n"
          ]
        }
      ]
    },
    {
      "cell_type": "code",
      "source": [
        "p1=combinations(3, 2)/combinations(10, 2)\n",
        "p2=combinations(2, 2)/combinations(11, 2)\n",
        "result = 1 - (p1 * p2)"
      ],
      "metadata": {
        "id": "YMqRebxst_27"
      },
      "execution_count": 16,
      "outputs": []
    },
    {
      "cell_type": "code",
      "source": [
        "print(\"Какова вероятность того, что хотя бы один мяч белый?\")\n",
        "print(f\"Ответ: {result}\")"
      ],
      "metadata": {
        "colab": {
          "base_uri": "https://localhost:8080/"
        },
        "id": "zGTNlfPeuErH",
        "outputId": "b98b4222-332f-4531-e0d0-62b7afb915c4"
      },
      "execution_count": 17,
      "outputs": [
        {
          "output_type": "stream",
          "name": "stdout",
          "text": [
            "Какова вероятность того, что хотя бы один мяч белый?\n",
            "Ответ: 0.9987878787878788\n"
          ]
        }
      ]
    }
  ]
}